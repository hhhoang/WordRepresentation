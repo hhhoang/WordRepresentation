{
 "cells": [
  {
   "cell_type": "code",
   "execution_count": 99,
   "metadata": {
    "collapsed": false,
    "scrolled": true
   },
   "outputs": [],
   "source": [
    "import numpy as np\n",
    "import pandas as pd\n",
    "import multiprocessing\n",
    "import gensim\n",
    "from gensim import utils\n",
    "from gensim.models.doc2vec import LabeledSentence\n",
    "from gensim.models import doc2vec\n",
    "from collections import namedtuple\n",
    "from sklearn.metrics import accuracy_score"
   ]
  },
  {
   "cell_type": "code",
   "execution_count": 100,
   "metadata": {
    "collapsed": false
   },
   "outputs": [
    {
     "data": {
      "text/html": [
       "<div>\n",
       "<table border=\"1\" class=\"dataframe\">\n",
       "  <thead>\n",
       "    <tr style=\"text-align: right;\">\n",
       "      <th></th>\n",
       "      <th>0</th>\n",
       "    </tr>\n",
       "  </thead>\n",
       "  <tbody>\n",
       "    <tr>\n",
       "      <th>0</th>\n",
       "      <td>fjh ag initi assess annual result short discon...</td>\n",
       "    </tr>\n",
       "    <tr>\n",
       "      <th>1</th>\n",
       "      <td>grenkeleas growth acceler badenbaden januari g...</td>\n",
       "    </tr>\n",
       "    <tr>\n",
       "      <th>2</th>\n",
       "      <td>us toptier electron manufactur servic compani ...</td>\n",
       "    </tr>\n",
       "    <tr>\n",
       "      <th>3</th>\n",
       "      <td>tele stock repurchas berlin januari th board t...</td>\n",
       "    </tr>\n",
       "    <tr>\n",
       "      <th>4</th>\n",
       "      <td>januari hansabrunnen ag affili compani holsten...</td>\n",
       "    </tr>\n",
       "  </tbody>\n",
       "</table>\n",
       "</div>"
      ],
      "text/plain": [
       "                                                   0\n",
       "0  fjh ag initi assess annual result short discon...\n",
       "1  grenkeleas growth acceler badenbaden januari g...\n",
       "2  us toptier electron manufactur servic compani ...\n",
       "3  tele stock repurchas berlin januari th board t...\n",
       "4  januari hansabrunnen ag affili compani holsten..."
      ]
     },
     "execution_count": 100,
     "metadata": {},
     "output_type": "execute_result"
    }
   ],
   "source": [
    "# utf 8 encoding error\n",
    "data = pd.read_csv(\"adhoc_news_clean.txt\", sep='\\n', header=None, encoding='latin-1')\n",
    "data.head()"
   ]
  },
  {
   "cell_type": "code",
   "execution_count": 102,
   "metadata": {
    "collapsed": false
   },
   "outputs": [],
   "source": [
    "new_cols = ['news']\n",
    "data.columns = new_cols"
   ]
  },
  {
   "cell_type": "code",
   "execution_count": 103,
   "metadata": {
    "collapsed": true
   },
   "outputs": [],
   "source": [
    "# list of news\n",
    "doc_compilation = []\n",
    "for doc in data[\"news\"]:\n",
    "    doc_compilation.append(doc)"
   ]
  },
  {
   "cell_type": "code",
   "execution_count": 104,
   "metadata": {
    "collapsed": false
   },
   "outputs": [
    {
     "data": {
      "text/plain": [
       "['fjh ag initi assess annual result short discontinu investig carri depart public prosecut execut board consult softwar compani fjh ag list tecdax provid initi preliminari assess financi year follow first three success quarter fourth quarter characteris special factor whole annual net incom expect amount just million euro anonym charg respons parti fjh octob well various press articl publish connect led appar restraint regard placement new extens exist order discontinu investig just christma effect fourth quarter around half loss sale anticip fourth quarter can attribut fact addit insur custom fjh also face consider uncertainti fourth quarter fiscal treatment life assur fiscal treatment compani much tax privileg differ type insur therefor caution longerterm invest describ month report continu unab final compani saw stabilis two difficult project thus last safeguard longterm custom relat execut board confid cours compani will return usual earn strength appropri measur increas sale cost reduct alreadi taken fjh ag dr thoma meindl leonhardmollbogen munich telephon internet munich end adhocannounc',\n",
       " 'grenkeleas growth acceler badenbaden januari grenkeleas close financi year earn new busi ie total acquisit cost newli purchas leas asset euro previous year euro correspond year onyear growth new busi per cent full year volum new busi came euro repres rise per cent euro previous year per cent margin new busi contribut margin financi result life contract deriv thus key profit indic grew correspond euro compar figur euro previous year repres per cent increas new busi germani rose per cent grenkeleas foreign subsidiari show effect compar previous year restrict accept polici made per cent contribut group new busi compani will publish annual account march execut board']"
      ]
     },
     "execution_count": 104,
     "metadata": {},
     "output_type": "execute_result"
    }
   ],
   "source": [
    "doc_compilation[:2]\n",
    "#len(doc_compilation)"
   ]
  },
  {
   "cell_type": "code",
   "execution_count": 105,
   "metadata": {
    "collapsed": false
   },
   "outputs": [
    {
     "data": {
      "text/plain": [
       "[TaggedDocument(words=['fjh', 'ag', 'initi', 'assess', 'annual', 'result', 'short', 'discontinu', 'investig', 'carri', 'depart', 'public', 'prosecut', 'execut', 'board', 'consult', 'softwar', 'compani', 'fjh', 'ag', 'list', 'tecdax', 'provid', 'initi', 'preliminari', 'assess', 'financi', 'year', 'follow', 'first', 'three', 'success', 'quarter', 'fourth', 'quarter', 'characteris', 'special', 'factor', 'whole', 'annual', 'net', 'incom', 'expect', 'amount', 'just', 'million', 'euro', 'anonym', 'charg', 'respons', 'parti', 'fjh', 'octob', 'well', 'various', 'press', 'articl', 'publish', 'connect', 'led', 'appar', 'restraint', 'regard', 'placement', 'new', 'extens', 'exist', 'order', 'discontinu', 'investig', 'just', 'christma', 'effect', 'fourth', 'quarter', 'around', 'half', 'loss', 'sale', 'anticip', 'fourth', 'quarter', 'can', 'attribut', 'fact', 'addit', 'insur', 'custom', 'fjh', 'also', 'face', 'consider', 'uncertainti', 'fourth', 'quarter', 'fiscal', 'treatment', 'life', 'assur', 'fiscal', 'treatment', 'compani', 'much', 'tax', 'privileg', 'differ', 'type', 'insur', 'therefor', 'caution', 'longerterm', 'invest', 'describ', 'month', 'report', 'continu', 'unab', 'final', 'compani', 'saw', 'stabilis', 'two', 'difficult', 'project', 'thus', 'last', 'safeguard', 'longterm', 'custom', 'relat', 'execut', 'board', 'confid', 'cours', 'compani', 'will', 'return', 'usual', 'earn', 'strength', 'appropri', 'measur', 'increas', 'sale', 'cost', 'reduct', 'alreadi', 'taken', 'fjh', 'ag', 'dr', 'thoma', 'meindl', 'munich', 'telephon', 'internet', 'munich', 'end', 'adhocannounc'], tags=[0]),\n",
       " TaggedDocument(words=['grenkeleas', 'growth', 'acceler', 'badenbaden', 'januari', 'grenkeleas', 'close', 'financi', 'year', 'earn', 'new', 'busi', 'ie', 'total', 'acquisit', 'cost', 'newli', 'purchas', 'leas', 'asset', 'euro', 'previous', 'year', 'euro', 'correspond', 'year', 'onyear', 'growth', 'new', 'busi', 'per', 'cent', 'full', 'year', 'volum', 'new', 'busi', 'came', 'euro', 'repres', 'rise', 'per', 'cent', 'euro', 'previous', 'year', 'per', 'cent', 'margin', 'new', 'busi', 'contribut', 'margin', 'financi', 'result', 'life', 'contract', 'deriv', 'thus', 'key', 'profit', 'indic', 'grew', 'correspond', 'euro', 'compar', 'figur', 'euro', 'previous', 'year', 'repres', 'per', 'cent', 'increas', 'new', 'busi', 'germani', 'rose', 'per', 'cent', 'grenkeleas', 'foreign', 'subsidiari', 'show', 'effect', 'compar', 'previous', 'year', 'restrict', 'accept', 'polici', 'made', 'per', 'cent', 'contribut', 'group', 'new', 'busi', 'compani', 'will', 'publish', 'annual', 'account', 'march', 'execut', 'board'], tags=[1]),\n",
       " TaggedDocument(words=['us', 'toptier', 'electron', 'manufactur', 'servic', 'compani', 'select', 'valor', 'global', 'solut', 'partner', 'yavn', 'israel', 'januari', 'th', 'valor', 'computer', 'system', 'prime', 'standard', 'vcr', 'leader', 'product', 'increas', 'softwar', 'solut', 'electron', 'design', 'manufactur', 'industri', 'today', 'announc', 'largest', 'softwar', 'sale', 'compani', 'histori', 'intern', 'toptier', 'em', 'electron', 'manufactur', 'servic', 'compani', 'headquart', 'unit', 'state', 'initi', 'purchas', 'order', 'valu', 'us', 'dollar', 'addit', 'revenu', 'stem', 'extens', 'mainten', 'subscript', 'fee', 'bring', 'total', 'agreement', 'valu', 'us', 'dollar', 'fiveyear', 'period', 'full', 'valor', 'engin', 'softwar', 'solut', 'go', 'implement', 'corpor', 'wide', 'level', 'global', 'dispers', 'manufactur', 'plant', 'includ', 'trilog', 'preproduct', 'engin', 'platform', 'manufactur', 'process', 'simul', 'mps', 'assembl', 'optim', 'line', 'balanc', 'dfm', 'design', 'manufactur', 'verif', 'along', 'subscript', 'vpl', 'valor', 'part', 'librari', 'databas', 'deliveri', 'accur', 'geometri', 'electron', 'compon', 'order', 'size', 'agreement', 'renown', 'intern', 'partner', 'strong', 'indic', 'increas', 'market', 'penetr', 'valor', 'product', 'inquiri', 'valor', 'corpor', 'alon', 'levitan', 'valor', 'computer', 'system', 'ltd', 'mailto', 'end', 'adhocannounc'], tags=[2]),\n",
       " TaggedDocument(words=['tele', 'stock', 'repurchas', 'berlin', 'januari', 'th', 'board', 'tele', 'ag', 'just', 'agre', 'continu', 'buy', 'back', 'purpos', 'restructur', 'communiti', 'tele', 'investor', 'order', 'increas', 'engag', 'institut', 'investor', 'announc', 'earlier', 'alreadi', 'stock', 'exchang', 'come', 'week', 'share', 'mioeuro', 'ie', 'presum', 'piec', 'percent', 'free', 'float', 'basi', 'repurchas', 'one', 'side', 'continu', 'high', 'posit', 'free', 'cash', 'hand', 'tele', 'side', 'empower', 'board', 'resolv', 'upon', 'general', 'assembl', 'prescrib', 'purchas', 'price', 'per', 'share', 'must', 'exceed', 'percent', 'resp', 'fall', 'percent', 'averag', 'share', 'price', 'last', 'trade', 'day', 'professor', 'sigram', 'schindler', 'ceo', 'end', 'adhocannounc'], tags=[3]),\n",
       " TaggedDocument(words=['januari', 'hansabrunnen', 'ag', 'affili', 'compani', 'holsten', 'brauerei', 'ag', 'acquir', 'percent', 'share', 'addit', 'percent', 'far', 'held', 'share', 'ernst', 'heemann', 'mineralbrunnen', 'beisefa', 'rth', 'gmbh', 'co', 'la', 'hne', 'wildsbergquell', 'gmbh', 'beisefa', 'rth', 'becom', 'sole', 'sharehold', 'two', 'compani', 'settl', 'contract', 'former', 'sharehold', 'respect', 'heir', 'entrepeneur', 'dieter', 'heemann', 'pass', 'away', 'year', 'result', 'measur', 'sale', 'miner', 'water', 'soft', 'drink', 'holstengroup', 'within', 'domest', 'intern', 'market', 'like', 'trebl', 'approxim', 'million', 'hectolitr', 'basi', 'holstenbrauerei', 'ag', 'end', 'adhocannounc'], tags=[4])]"
      ]
     },
     "execution_count": 105,
     "metadata": {},
     "output_type": "execute_result"
    }
   ],
   "source": [
    "# Doc2Vec requires input as LabeledLineSentence/TaggedDocument format\n",
    "# one news = one doc = one sentence\n",
    "# basically it is a list of list of words and a tag for that document\n",
    "# [words = ['word1', 'word2'], tags = [sent1]]\n",
    "def process_tagged_document(corpus):\n",
    "    for i, line in enumerate(corpus):\n",
    "        yield gensim.models.doc2vec.TaggedDocument(gensim.utils.simple_preprocess(line, deacc=True), [i])\n",
    "total_corpus = list(process_tagged_document(doc_compilation))    \n",
    "#chec the first five news\n",
    "total_corpus[:5]"
   ]
  },
  {
   "cell_type": "code",
   "execution_count": null,
   "metadata": {
    "collapsed": true
   },
   "outputs": [],
   "source": [
    "# Training the model using gensim Doc2Vec\n",
    "# First instantiate a Doc2Vec Object with specific parameters\n",
    "# min_count: ignore all words with total frequency lower than this\n",
    "# size is the dimensionality of the feature vectors (rule of thumb: 100 to 400)\n",
    "# window is the maximum distance between the predicted word and context words used for prediction within a document\n",
    "# dm defines the training algorithm. By default (dm=1), ‘distributed memory’ (PV-DM) is used. \n",
    "# Otherwise, distributed bag of words (PV-DBOW) is employed.\n",
    "# sample = threshold for configuring which higher-frequency words are randomly downsampled; default is 0 (off), useful value is 1e-5.\n",
    "# workers = use this many worker threads to train the model (=faster training with multicore machines).\n",
    "# class gensim.models.doc2vec.Doc2Vec(documents=None, dm_mean=None, dm=1, dbow_words=0, dm_concat=0, dm_tag_count=1, docvecs=None, docvecs_mapfile=None, comment=None, trim_rule=None, **kwargs)\n",
    "# negative = if > 0, negative sampling will be used, the int for negative specifies how many “noise words” should be drawn (usually between 5-20)."
   ]
  },
  {
   "cell_type": "code",
   "execution_count": 121,
   "metadata": {
    "collapsed": false
   },
   "outputs": [
    {
     "name": "stdout",
     "output_type": "stream",
     "text": [
      "CPU times: user 54.6 s, sys: 9.92 s, total: 1min 4s\n",
      "Wall time: 35.2 s\n"
     ]
    },
    {
     "data": {
      "text/plain": [
       "11218583"
      ]
     },
     "execution_count": 121,
     "metadata": {},
     "output_type": "execute_result"
    }
   ],
   "source": [
    "# DOC2VEC DISTRIBUTED MEMORY\n",
    "# MODEL PARAMETERS\n",
    "# BUILD MODEL\n",
    "#model_dm = gensim.models.Doc2Vec(min_count=1, window=6, size=400, sample=1e-5, workers=10, iter=20)\n",
    "#model_dm = gensim.models.Doc2Vec(min_count=1, window=6, size=300, sample=1e-5, workers=10, iter=20)\n",
    "model_dm = gensim.models.Doc2Vec(min_count=1, window=6, size=100, sample=1e-5, workers=10, iter=20)\n",
    "\n",
    "# Build a vocab which is a dictionary of all unique words extracted from training corpus\n",
    "model_dm.build_vocab(total_corpus)\n",
    "\n",
    "# Train the model through many times of iteration\n",
    "%time model_dm.train(total_corpus, total_examples=model_dm.corpus_count, epochs=model_dm.iter)"
   ]
  },
  {
   "cell_type": "code",
   "execution_count": 122,
   "metadata": {
    "collapsed": false
   },
   "outputs": [
    {
     "name": "stdout",
     "output_type": "stream",
     "text": [
      "CPU times: user 35.7 s, sys: 1.84 s, total: 37.5 s\n",
      "Wall time: 22.9 s\n"
     ]
    },
    {
     "data": {
      "text/plain": [
       "11215935"
      ]
     },
     "execution_count": 122,
     "metadata": {},
     "output_type": "execute_result"
    }
   ],
   "source": [
    "# DOC2VEC DISTRIBUTED BAG OF WORDS\n",
    "# MODEL PARAMETERS\n",
    "# BUILD MODEL\n",
    "\n",
    "# Try with another training algorithm: distributed bag of word (dbow)\n",
    "#model_dbow = gensim.models.Doc2Vec(dm=0,min_count=1, window=6, size=400, sample=1e-5, workers=10, iter=20)\n",
    "#model_dbow = gensim.models.Doc2Vec(dm=0,min_count=1, window=6, size=300, sample=1e-5, workers=10, iter=20)\n",
    "model_dbow = gensim.models.Doc2Vec(dm=0,min_count=1, window=6, size=100, sample=1e-5, workers=10, iter=20)\n",
    "\n",
    "model_dbow.build_vocab(total_corpus)\n",
    "%time model_dbow.train(total_corpus, total_examples=model_dbow.corpus_count, epochs=model_dbow.iter)"
   ]
  },
  {
   "cell_type": "code",
   "execution_count": 110,
   "metadata": {
    "collapsed": false
   },
   "outputs": [
    {
     "data": {
      "text/plain": [
       "array([ -6.81249201e-02,   2.75937393e-02,  -1.04013525e-01,\n",
       "         7.59607330e-02,  -2.73406450e-02,  -4.75983396e-02,\n",
       "        -2.11353358e-02,  -1.61165401e-04,   5.57710649e-03,\n",
       "        -3.21738236e-02,   9.28568617e-02,   1.97754288e-03,\n",
       "         7.70305246e-02,   1.46699831e-01,  -5.38911894e-02,\n",
       "         1.00226544e-01,   6.32965565e-02,  -2.08594576e-02,\n",
       "        -2.41112970e-02,   5.83501626e-03,   4.46207002e-02,\n",
       "        -8.86843354e-03,   2.89630461e-02,   6.82228431e-02,\n",
       "         7.26604164e-02,   4.86460552e-02,  -4.46660891e-02,\n",
       "         3.99297588e-02,   2.67922096e-02,  -1.64842624e-02,\n",
       "        -7.86316991e-02,   1.87371597e-02,  -2.03581993e-02,\n",
       "        -2.50798333e-02,  -1.21068947e-01,  -4.86787334e-02,\n",
       "         4.77416217e-02,   7.74352327e-02,  -2.37030089e-02,\n",
       "        -6.80414885e-02,   1.31282344e-01,  -3.27400453e-02,\n",
       "        -5.92813157e-02,   9.62169899e-04,   1.37665328e-02,\n",
       "         6.56080693e-02,  -2.53424142e-02,   2.44390834e-02,\n",
       "         5.57942055e-02,   4.16968018e-04,   8.57452601e-02,\n",
       "        -8.10127258e-02,   5.04942201e-02,  -6.08685724e-02,\n",
       "         1.47751765e-03,   4.33053327e-04,  -8.02476928e-02,\n",
       "        -1.00163467e-01,   3.53380255e-02,   6.96043670e-02,\n",
       "         2.14022063e-02,   2.34124754e-02,  -2.62129810e-02,\n",
       "         4.60755564e-02,  -7.71194771e-02,  -2.96964683e-02,\n",
       "        -2.32930146e-02,   4.39507440e-02,   6.52350634e-02,\n",
       "        -2.38028746e-02,  -1.92569047e-02,   2.31515784e-02,\n",
       "        -6.16226234e-02,  -4.10670377e-02,  -4.65473011e-02,\n",
       "         1.80808008e-01,   2.54704505e-02,   5.31073324e-02,\n",
       "         3.87374945e-02,  -1.18579818e-02,   8.41532797e-02,\n",
       "        -2.61812657e-03,   4.82447520e-02,   7.42109567e-02,\n",
       "         3.50939855e-02,  -6.33677840e-02,   3.02093960e-02,\n",
       "        -9.54517871e-02,   8.81387219e-02,  -1.88743463e-03,\n",
       "         1.89472884e-02,  -9.81974136e-03,  -1.47412308e-02,\n",
       "         4.41302136e-02,   9.32952538e-02,  -1.16639622e-01,\n",
       "         9.27610230e-03,  -9.02657583e-02,   6.84996545e-02,\n",
       "        -4.43295650e-02,  -3.49677429e-02,   7.81824514e-02,\n",
       "         5.17608188e-02,  -3.91770527e-03,  -9.61201191e-02,\n",
       "        -6.45067990e-02,   5.53988628e-02,   4.51852679e-02,\n",
       "         2.07941085e-02,   7.32274121e-03,   4.58750203e-02,\n",
       "        -1.40881361e-02,  -3.90113331e-02,   7.98018649e-02,\n",
       "         1.09881230e-01,   6.75701499e-02,   8.93271863e-02,\n",
       "         5.45540778e-03,   4.07215133e-02,   7.55921453e-02,\n",
       "         7.58155957e-02,  -1.28773656e-02,  -7.11111911e-03,\n",
       "        -1.73982248e-01,  -4.04750295e-02,   8.31350163e-02,\n",
       "        -1.37311891e-01,  -1.47765547e-01,  -3.95974591e-02,\n",
       "        -2.42618155e-02,  -4.93249521e-02,   2.75650769e-02,\n",
       "        -7.56005794e-02,  -7.95237720e-02,   3.15034091e-02,\n",
       "         6.49692640e-02,   4.63198312e-02,  -5.11478819e-02,\n",
       "        -3.22556794e-02,  -3.29297446e-02,   5.86673059e-02,\n",
       "         5.96285239e-02,  -2.45530605e-02,   1.33683067e-02,\n",
       "         7.95127731e-03,   1.03823980e-02,  -1.26201198e-01,\n",
       "         1.00772560e-01,  -3.67764495e-02,  -5.52851632e-02,\n",
       "        -5.82214668e-02,   4.55054753e-02,  -6.82274019e-03,\n",
       "        -8.61685574e-02,  -7.11495504e-02,   5.22015803e-02,\n",
       "        -7.31773581e-03,  -1.06304996e-01,   8.39225575e-02,\n",
       "        -2.55440660e-02,  -1.25949383e-01,  -4.71607968e-02,\n",
       "         2.06781998e-02,   2.87845228e-02,   5.90824895e-02,\n",
       "        -3.18442620e-02,  -2.41935421e-02,  -5.69587722e-02,\n",
       "         4.87556309e-02,  -3.21555100e-02,  -9.19745713e-02,\n",
       "         4.47831908e-03,  -9.90553126e-02,   1.24017987e-02,\n",
       "         1.53253391e-01,  -6.74433867e-03,   6.62056506e-02,\n",
       "        -6.61839396e-02,  -1.05863467e-01,  -1.57832146e-01,\n",
       "         8.71111229e-02,   4.87044677e-02,  -3.04068569e-02,\n",
       "        -1.81644350e-01,   6.18883362e-03,   2.72193644e-02,\n",
       "        -3.98127027e-02,   6.09860942e-02,   1.91084575e-02,\n",
       "         8.31992701e-02,   4.53170203e-02,  -2.02555478e-01,\n",
       "        -4.04858887e-02,  -7.29630142e-02,  -4.68413308e-02,\n",
       "        -3.21348570e-02,   2.20632609e-02,  -6.98897094e-02,\n",
       "         9.70849916e-02,  -1.79045703e-02,   1.19815923e-01,\n",
       "        -7.61374459e-02,   4.53714468e-03,  -1.44416466e-02,\n",
       "        -1.29813505e-02,  -6.32616803e-02,   1.15730554e-01,\n",
       "         5.29629029e-02,  -5.30963950e-03,   1.31437713e-02,\n",
       "         5.63936587e-03,   7.66023844e-02,   5.41021675e-03,\n",
       "        -4.33930419e-02,  -4.60687205e-02,   6.40346557e-02,\n",
       "         3.46158855e-02,  -1.48600116e-01,  -1.71356983e-02,\n",
       "         7.29157478e-02,   9.15578306e-02,   5.72798252e-02,\n",
       "        -1.32728651e-01,  -5.32489680e-02,  -4.33321483e-02,\n",
       "        -2.85640042e-02,   1.06867021e-02,  -5.51701337e-02,\n",
       "         7.07432861e-04,  -1.19001098e-01,   4.76111239e-03,\n",
       "        -8.97296295e-02,  -2.39113183e-03,   6.22175261e-02,\n",
       "        -1.57637030e-01,  -6.38573095e-02,   1.18060164e-01,\n",
       "        -3.58361825e-02,   5.37214279e-02,  -3.85198370e-02,\n",
       "         1.20289259e-01,  -6.67037666e-02,  -3.46379280e-02,\n",
       "         4.18184400e-02,   1.01551428e-01,  -5.13404496e-02,\n",
       "         1.19526144e-02,   1.81729917e-03,  -5.65538742e-02,\n",
       "         5.65815829e-02,  -1.75197683e-02,  -3.05522569e-02,\n",
       "        -6.22756146e-02,  -5.92897832e-02,  -4.50031506e-03,\n",
       "        -4.06658910e-02,  -1.14408270e-01,  -6.82909554e-03,\n",
       "         1.06301727e-02,  -1.06773965e-01,  -4.82204109e-02,\n",
       "         4.44896752e-03,  -2.26178207e-02,  -3.12083215e-02,\n",
       "        -1.27048045e-02,  -1.70882046e-02,  -3.42341661e-02,\n",
       "         4.65700682e-03,  -1.04949087e-01,  -5.74307144e-02,\n",
       "         4.12562005e-02,  -1.15178972e-01,  -1.66398752e-02,\n",
       "        -2.11582437e-01,  -6.23661987e-02,  -1.79941626e-03,\n",
       "        -1.00176446e-02,   1.20162390e-01,   7.90101811e-02,\n",
       "         9.02009979e-02,   5.75025119e-02,  -3.13222893e-02,\n",
       "        -6.45218417e-02,   1.07656986e-01,   1.03959188e-01,\n",
       "        -9.14904755e-03,   2.64829453e-02,  -5.27768284e-02,\n",
       "        -6.48896098e-02,   1.01691363e-02,  -2.02083364e-02,\n",
       "         9.69517231e-02,  -8.33452046e-02,   8.54663178e-02,\n",
       "         1.94388977e-03,  -8.49097297e-02,   6.62307143e-02,\n",
       "         1.70205921e-01,  -5.01413224e-03,  -3.58420275e-02,\n",
       "        -5.95340990e-02,  -1.38989165e-01,  -8.04387257e-02,\n",
       "        -5.07084765e-02,   8.27836767e-02,  -2.76567079e-02,\n",
       "        -2.98424680e-02,   9.81478691e-02,  -6.72661811e-02,\n",
       "        -4.64321598e-02,  -9.35455412e-02,  -9.87549946e-02,\n",
       "        -7.41162971e-02,   8.53752494e-02,  -6.62957877e-02,\n",
       "        -1.35973934e-02,  -5.58138713e-02,   1.01337090e-01,\n",
       "         9.97148752e-02,  -2.39743460e-02,   1.15924947e-01,\n",
       "         1.50475875e-02,  -4.36902931e-03,  -1.52328879e-01,\n",
       "         9.90941525e-02,   9.82447267e-02,   1.66474525e-02,\n",
       "        -3.69902663e-02,   3.15129645e-02,  -9.02769938e-02,\n",
       "        -5.86128570e-02,  -9.58431512e-02,  -8.09904709e-02,\n",
       "         1.08441152e-01,   1.34933703e-02,  -5.21536842e-02,\n",
       "         4.29979563e-02,   2.02269033e-02,   8.61827843e-03,\n",
       "         1.12853907e-01,   7.37065077e-02,  -1.81877374e-04,\n",
       "         1.22615375e-01,   2.43102387e-02,   3.04381512e-02,\n",
       "         2.00584251e-02,   8.84162262e-02,  -2.27494929e-02,\n",
       "         4.19502109e-02,  -6.64442079e-03,   1.07553706e-01,\n",
       "        -1.09833227e-02,  -5.53946160e-02,  -1.28617838e-01,\n",
       "         1.44210190e-01,   5.36151156e-02,  -9.04017612e-02,\n",
       "         2.87273787e-02,  -6.98425397e-02,  -8.95656087e-03,\n",
       "        -6.54770480e-03,  -2.66451985e-02,  -1.45362150e-02,\n",
       "        -4.24929522e-02,   7.72298574e-02,  -4.49189730e-02,\n",
       "        -3.62317078e-02,   2.59174425e-02,   1.03131771e-01,\n",
       "        -3.68136317e-02,   6.44196421e-02,  -6.74661249e-02,\n",
       "         9.98658538e-02,  -6.80797175e-02,  -7.83346966e-02,\n",
       "        -2.80457698e-02,  -3.97595242e-02,   7.17763454e-02,\n",
       "         4.86244299e-02,  -3.17455828e-02,  -5.80211990e-02,\n",
       "        -2.15844363e-02,  -4.25525755e-02,   7.75662111e-03,\n",
       "         7.98130333e-02,   3.36573161e-02,   3.66412066e-02,\n",
       "        -4.56619971e-02,   1.74862687e-02,   3.57889794e-02,\n",
       "        -3.82036455e-02,  -1.13333769e-01,   1.04599781e-01,\n",
       "        -1.17628440e-01,  -4.13389020e-02,  -6.07471615e-02,\n",
       "        -1.82825662e-02,   8.12621263e-04,  -1.86734516e-02,\n",
       "        -4.68106195e-02], dtype=float32)"
      ]
     },
     "execution_count": 110,
     "metadata": {},
     "output_type": "execute_result"
    }
   ],
   "source": [
    "#inspect a document vector\n",
    "docvec = model_dm.docvecs[100] \n",
    "docvec # is an array \n",
    "# all the vectors can be obtained through doctag_syn0"
   ]
  },
  {
   "cell_type": "code",
   "execution_count": 117,
   "metadata": {
    "collapsed": false
   },
   "outputs": [],
   "source": [
    "#get the doc vectors, turn to a dataframe, save as csv as input for ML in R\n",
    "docvecs_dm = model_dm.docvecs.doctag_syn0\n",
    "docvecs_dm = pd.DataFrame(docvecs_dm)\n",
    "#docvecs_dm.to_csv('docvecs_dm_400.csv', index=False, header=True)\n",
    "docvecs_dm.to_csv('docvecs_dm_300.csv', index=False, header=True)\n",
    "#docvecs_dm.to_csv('docvecs_dm_100.csv', index=False, header=True)"
   ]
  },
  {
   "cell_type": "code",
   "execution_count": 118,
   "metadata": {
    "collapsed": false
   },
   "outputs": [],
   "source": [
    "# get the doc vectors for model dbow\n",
    "docvecs_dbow = model_dbow.docvecs.doctag_syn0\n",
    "docvecs_dbow = pd.DataFrame(docvecs_dbow)\n",
    "#docvecs_dbow.to_csv('docvecs_dbow_400.csv', index=False, header=True)\n",
    "docvecs_dbow.to_csv('docvecs_dbow_300.csv', index=False, header=True)\n",
    "#docvecs_dbow.to_csv('docvecs_dbow_100.csv', index=False, header=True)"
   ]
  },
  {
   "cell_type": "code",
   "execution_count": 119,
   "metadata": {
    "collapsed": false
   },
   "outputs": [
    {
     "data": {
      "text/plain": [
       "[('statement', 0.8601853251457214),\n",
       " ('goingconcern', 0.8091734051704407),\n",
       " ('nonaudit', 0.8051964044570923),\n",
       " ('reclassif', 0.7942148447036743),\n",
       " ('instead', 0.7937629818916321),\n",
       " ('provision', 0.7876889705657959),\n",
       " ('explan', 0.7843255996704102),\n",
       " ('forego', 0.7796642780303955),\n",
       " ('semiannu', 0.7795006632804871),\n",
       " ('report', 0.7789796590805054)]"
      ]
     },
     "execution_count": 119,
     "metadata": {},
     "output_type": "execute_result"
    }
   ],
   "source": [
    "# it seems model_dm works better at correlate the words after training than dbow\n",
    "model_dm.most_similar(\"financi\")\n",
    "\n",
    "#[('statement', 0.8362114429473877),\n",
    "# ('provision', 0.8314566016197205),\n",
    "# ('nonaudit', 0.8252514004707336),\n",
    "# ('deprec', 0.8143759965896606),\n",
    "# ('ifr', 0.8109675645828247),\n",
    "# ('instead', 0.8071068525314331),\n",
    "# ('restat', 0.8049291968345642),\n",
    "# ('reclassif', 0.7967160940170288),\n",
    "# ('reaffirm', 0.7944886684417725),\n",
    "# ('writeback', 0.789879322052002)]\n",
    "\n",
    "#model[\"finance\"].shape\n",
    "#model_dm.most_similar(\"posit\")"
   ]
  },
  {
   "cell_type": "code",
   "execution_count": 120,
   "metadata": {
    "collapsed": false
   },
   "outputs": [
    {
     "data": {
      "text/plain": [
       "[('clinic', 0.21650616824626923),\n",
       " ('microcomput', 0.2135980725288391),\n",
       " ('hesh', 0.2109202742576599),\n",
       " ('spotmarket', 0.20826569199562073),\n",
       " ('glacier', 0.20794934034347534),\n",
       " ('altmann', 0.2068473994731903),\n",
       " ('kazakhstan', 0.20075266063213348),\n",
       " ('industriebank', 0.20024338364601135),\n",
       " ('sshv', 0.19853392243385315),\n",
       " ('netprofit', 0.19554542005062103)]"
      ]
     },
     "execution_count": 120,
     "metadata": {},
     "output_type": "execute_result"
    }
   ],
   "source": [
    "model_dbow.most_similar(\"financi\")\n",
    "#[('securitis', 0.19116026163101196),\n",
    "# ('coemiss', 0.18409697711467743),\n",
    "# ('clinic', 0.1803305745124817),\n",
    "# ('zermatt', 0.17824828624725342),\n",
    "# ('shelv', 0.1733556091785431),\n",
    "# ('immunoassay', 0.17233437299728394),\n",
    "# ('strike', 0.16815799474716187),\n",
    "# ('brfollow', 0.16751345992088318),\n",
    "# ('ttelborn', 0.16725698113441467),\n",
    "# ('contentvi', 0.16470666229724884)]"
   ]
  },
  {
   "cell_type": "code",
   "execution_count": 43,
   "metadata": {
    "collapsed": false
   },
   "outputs": [
    {
     "data": {
      "text/plain": [
       "(13135, 400)"
      ]
     },
     "execution_count": 43,
     "metadata": {},
     "output_type": "execute_result"
    }
   ],
   "source": [
    "#load_data = pd.read_csv(\"docvecs_dm_300.csv\")\n",
    "load_data = pd.read_csv(\"docvecs_dbow_300.csv\")\n",
    "load_data.head()\n",
    "load_data.shape"
   ]
  },
  {
   "cell_type": "code",
   "execution_count": 44,
   "metadata": {
    "collapsed": false
   },
   "outputs": [],
   "source": [
    "# Split data to training and testing \n",
    "X_train = load_data[0:9000]\n",
    "X_test = load_data[9001:]\n",
    "\n",
    "y = pd.read_csv(\"return_direction.csv\")\n",
    "y_train = y[\"x\"][:9000]\n",
    "\n",
    "y_test = y[\"x\"][9001:]\n"
   ]
  },
  {
   "cell_type": "code",
   "execution_count": 20,
   "metadata": {
    "collapsed": false
   },
   "outputs": [
    {
     "data": {
      "text/plain": [
       "0    Negative\n",
       "1    Negative\n",
       "2    Positive\n",
       "3    Positive\n",
       "4    Negative\n",
       "Name: x, dtype: object"
      ]
     },
     "execution_count": 20,
     "metadata": {},
     "output_type": "execute_result"
    }
   ],
   "source": []
  },
  {
   "cell_type": "code",
   "execution_count": 45,
   "metadata": {
    "collapsed": false
   },
   "outputs": [
    {
     "name": "stdout",
     "output_type": "stream",
     "text": [
      "Fitting a random forest to labeled training data...\n"
     ]
    },
    {
     "data": {
      "text/plain": [
       "array(['Positive', 'Positive', 'Positive', 'Positive', 'Positive'], dtype=object)"
      ]
     },
     "execution_count": 45,
     "metadata": {},
     "output_type": "execute_result"
    }
   ],
   "source": [
    "# Fit a random forest to the training data, using 100 trees\n",
    "from sklearn.ensemble import RandomForestClassifier\n",
    "forest = RandomForestClassifier( n_estimators = 200 )\n",
    "\n",
    "print (\"Fitting a random forest to labeled training data...\")\n",
    "forest = forest.fit(X_train, y_train)\n",
    "\n",
    "# Test & extract results \n",
    "result = forest.predict(X_test)\n",
    "\n",
    "accuracy_score(y_test, result)\n",
    "\n",
    "# Write the test results \n",
    "#output = pd.DataFrame( data={\"id\":test[\"id\"], \"sentiment\":result} )\n",
    "#output.to_csv( \"Word2Vec_AverageVectors.csv\", index=False, quoting=3 )"
   ]
  },
  {
   "cell_type": "code",
   "execution_count": 46,
   "metadata": {
    "collapsed": false
   },
   "outputs": [
    {
     "data": {
      "text/plain": [
       "0.53386550556361878"
      ]
     },
     "execution_count": 46,
     "metadata": {},
     "output_type": "execute_result"
    }
   ],
   "source": []
  },
  {
   "cell_type": "code",
   "execution_count": 47,
   "metadata": {
    "collapsed": false
   },
   "outputs": [
    {
     "name": "stdout",
     "output_type": "stream",
     "text": [
      "Fitting a SVM to labeled training data...\n"
     ]
    },
    {
     "data": {
      "text/plain": [
       "0.54063860667634256"
      ]
     },
     "execution_count": 47,
     "metadata": {},
     "output_type": "execute_result"
    }
   ],
   "source": [
    "# Fit a SVM to the training data\n",
    "from sklearn import svm\n",
    "SVM = svm.SVC()\n",
    "\n",
    "print (\"Fitting a SVM to labeled training data...\")\n",
    "svm = SVM.fit(X_train, y_train)\n",
    "\n",
    "# Test & extract results \n",
    "result = svm.predict(X_test)\n",
    "\n",
    "accuracy_score(y_test, result)"
   ]
  },
  {
   "cell_type": "code",
   "execution_count": null,
   "metadata": {
    "collapsed": true
   },
   "outputs": [],
   "source": []
  }
 ],
 "metadata": {
  "kernelspec": {
   "display_name": "Python 3",
   "language": "python",
   "name": "python3"
  },
  "language_info": {
   "codemirror_mode": {
    "name": "ipython",
    "version": 3
   },
   "file_extension": ".py",
   "mimetype": "text/x-python",
   "name": "python",
   "nbconvert_exporter": "python",
   "pygments_lexer": "ipython3",
   "version": "3.6.1"
  }
 },
 "nbformat": 4,
 "nbformat_minor": 2
}
